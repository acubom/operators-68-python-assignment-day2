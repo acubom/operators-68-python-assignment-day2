{
 "cells": [
  {
   "cell_type": "markdown",
   "metadata": {},
   "source": [
    "# Functions, Scoping, Data Collections 1 & List Comprehensions"
   ]
  },
  {
   "cell_type": "markdown",
   "metadata": {},
   "source": [
    "## Tasks Today:\n",
    "\n",
    "<i>Monday Additions (or, and ... if statements)</i>\n",
    "\n",
    "1) String Manipulation <br>\n",
    " &nbsp;&nbsp;&nbsp;&nbsp; a) strip() <br>\n",
    " &nbsp;&nbsp;&nbsp;&nbsp; b) title() <br>\n",
    "2) Lists (yesterday's overflow) & Working With Lists <br>\n",
    " &nbsp;&nbsp;&nbsp;&nbsp; a) min() <br>\n",
    " &nbsp;&nbsp;&nbsp;&nbsp; b) max() <br>\n",
    " &nbsp;&nbsp;&nbsp;&nbsp; c) sum() <br>\n",
    " &nbsp;&nbsp;&nbsp;&nbsp; d) sort() <br>\n",
    " &nbsp;&nbsp;&nbsp;&nbsp; e) Copying a List <br>\n",
    " &nbsp;&nbsp;&nbsp;&nbsp; f) 'in' keyword <br>\n",
    " &nbsp;&nbsp;&nbsp;&nbsp; g) 'not in' keyword <br>\n",
    " &nbsp;&nbsp;&nbsp;&nbsp; i) Checking an Empty List <br>\n",
    " &nbsp;&nbsp;&nbsp;&nbsp; j) Removing Instances with a Loop <br>\n",
    "3) List Comprehensions <br>\n",
    "4) Tuples <br>\n",
    " &nbsp;&nbsp;&nbsp;&nbsp; a) sorted() <br>\n",
    "5) Functions <br>\n",
    " &nbsp;&nbsp;&nbsp;&nbsp; a) User-Defined vs. Built-In Functions <br>\n",
    " &nbsp;&nbsp;&nbsp;&nbsp; b) Accepting Parameters <br>\n",
    " &nbsp;&nbsp;&nbsp;&nbsp; c) Default Parameters <br>\n",
    " &nbsp;&nbsp;&nbsp;&nbsp; d) Making an Argument Optional <br>\n",
    " &nbsp;&nbsp;&nbsp;&nbsp; e) Keyword Arguments <br>\n",
    " &nbsp;&nbsp;&nbsp;&nbsp; f) Returning Values <br>\n",
    " &nbsp;&nbsp;&nbsp;&nbsp; g) *args <br>\n",
    " &nbsp;&nbsp;&nbsp;&nbsp; h) Docstring <br>\n",
    " &nbsp;&nbsp;&nbsp;&nbsp; i) Using a User Function in a Loop <br>\n",
    "6) Scope"
   ]
  },
  {
   "cell_type": "markdown",
   "metadata": {},
   "source": [
    "### String Manipulation"
   ]
  },
  {
   "cell_type": "markdown",
   "metadata": {},
   "source": [
    "##### .lstrip()"
   ]
  },
  {
   "cell_type": "code",
   "execution_count": 2,
   "metadata": {},
   "outputs": [
    {
     "name": "stdout",
     "output_type": "stream",
     "text": [
      "John Smith\n"
     ]
    }
   ],
   "source": [
    "# string.lstrip()\n",
    "\n",
    "name = \"    hJohn Smith\"\n",
    "print(name.lstrip(\" \" \"h\"))"
   ]
  },
  {
   "cell_type": "markdown",
   "metadata": {},
   "source": [
    "##### .rstrip()"
   ]
  },
  {
   "cell_type": "code",
   "execution_count": 3,
   "metadata": {},
   "outputs": [
    {
     "name": "stdout",
     "output_type": "stream",
     "text": [
      "Bill Ross\n"
     ]
    }
   ],
   "source": [
    "# string.rstrip()\n",
    "\n",
    "name = \"Bill Ross    th\"\n",
    "print(name.rstrip(\" \" \"th\"))"
   ]
  },
  {
   "cell_type": "markdown",
   "metadata": {},
   "source": [
    "##### .strip()"
   ]
  },
  {
   "cell_type": "code",
   "execution_count": 4,
   "metadata": {},
   "outputs": [],
   "source": [
    "# string.strip()\n",
    "\n"
   ]
  },
  {
   "cell_type": "markdown",
   "metadata": {},
   "source": [
    "##### .title()"
   ]
  },
  {
   "cell_type": "code",
   "execution_count": 5,
   "metadata": {},
   "outputs": [
    {
     "name": "stdout",
     "output_type": "stream",
     "text": [
      "Joe A. Biden\n"
     ]
    }
   ],
   "source": [
    "# string.title()\n",
    "\n",
    "president = \"joe a. biden\"\n",
    "print(president.title())\n"
   ]
  },
  {
   "cell_type": "markdown",
   "metadata": {},
   "source": [
    "### String Exercise <br>\n",
    "<p>Strip all white space and capitalize every name in the list given</p>"
   ]
  },
  {
   "cell_type": "code",
   "execution_count": 6,
   "metadata": {},
   "outputs": [
    {
     "name": "stdout",
     "output_type": "stream",
     "text": [
      "Connor\n",
      "Max\n",
      "Evan\n",
      "Jordan\n"
     ]
    }
   ],
   "source": [
    "names = ['    coNNor', 'max', ' EVan ', 'JORDAN']\n",
    "# HINT: You will need to use a for loop for iteration\n",
    "\n",
    "for name in names:\n",
    "    print(name.title().strip())\n",
    "    \n",
    "new_list = []\n",
    "for name in names:\n",
    "    new_list.append\n",
    "\n"
   ]
  },
  {
   "cell_type": "markdown",
   "metadata": {},
   "source": [
    "### Lists"
   ]
  },
  {
   "cell_type": "markdown",
   "metadata": {},
   "source": [
    "##### Declaring Lists"
   ]
  },
  {
   "cell_type": "code",
   "execution_count": 7,
   "metadata": {},
   "outputs": [
    {
     "name": "stdout",
     "output_type": "stream",
     "text": [
      "['Max', 'Carrie', 'Kathy', 'Justin', 'Nate', 'Marcus', 'Joel']\n"
     ]
    }
   ],
   "source": [
    "l_1 = [] # Empty List Declaration\n",
    "\n",
    "names = ['Max', 'Carrie', 'Kathy', 'Justin', 'Nate', 'Marcus', 'Joel']\n",
    "print(names)\n"
   ]
  },
  {
   "cell_type": "markdown",
   "metadata": {},
   "source": [
    "##### Indexing a List"
   ]
  },
  {
   "cell_type": "code",
   "execution_count": 8,
   "metadata": {},
   "outputs": [
    {
     "name": "stdout",
     "output_type": "stream",
     "text": [
      "Max\n",
      "['Carrie', 'Kathy', 'Justin', 'Nate', 'Marcus', 'Joel']\n",
      "['Max', 'Carrie']\n",
      "['Carrie', 'Justin', 'Marcus']\n",
      "['Joel', 'Marcus', 'Nate', 'Justin', 'Kathy', 'Carrie', 'Max']\n"
     ]
    }
   ],
   "source": [
    "# [start: stop: step] -- [-1]\n",
    "\n",
    "#Single Index\n",
    "\n",
    "print(names[0])\n",
    "\n",
    "# Print starting at index 1 going to the end\n",
    "\n",
    "print(names[1:])\n",
    "\n",
    "#Print starting at beginning of list to N (n == the number we want to stop at)\n",
    "\n",
    "print(names[:2])\n",
    "\n",
    "# print starting at index 1 going up BY 2 in each iteration\n",
    "\n",
    "print(names[1::2])\n",
    "\n",
    "# print starting at the back and present in reverse order\n",
    "\n",
    "print(names[::-1])\n"
   ]
  },
  {
   "cell_type": "markdown",
   "metadata": {},
   "source": [
    "##### .append()"
   ]
  },
  {
   "cell_type": "code",
   "execution_count": 9,
   "metadata": {},
   "outputs": [
    {
     "name": "stdout",
     "output_type": "stream",
     "text": [
      "['Max', 'Carrie', 'Kathy', 'Justin', 'Nate', 'Marcus', 'Joel']\n",
      "['Max', 'Carrie', 'Kathy', 'Justin', 'Nate', 'Marcus', 'Joel', 'Derek']\n"
     ]
    }
   ],
   "source": [
    "print(names)\n",
    "\n",
    "names.append('Derek')\n",
    "print(names)"
   ]
  },
  {
   "cell_type": "markdown",
   "metadata": {},
   "source": [
    "##### .insert()"
   ]
  },
  {
   "cell_type": "code",
   "execution_count": 10,
   "metadata": {},
   "outputs": [
    {
     "name": "stdout",
     "output_type": "stream",
     "text": [
      "['Max', 'Carrie', 'Kathy', 'Taty', 'Justin', 'Nate', 'Marcus', 'Joel', 'Derek']\n"
     ]
    }
   ],
   "source": [
    "# list.insert(index,value)\n",
    "\n",
    "names.insert(3, 'Taty')\n",
    "print(names)"
   ]
  },
  {
   "cell_type": "markdown",
   "metadata": {},
   "source": [
    "##### .pop()"
   ]
  },
  {
   "cell_type": "code",
   "execution_count": 11,
   "metadata": {},
   "outputs": [
    {
     "name": "stdout",
     "output_type": "stream",
     "text": [
      "Derek\n",
      "['Max', 'Carrie', 'Kathy', 'Taty', 'Justin', 'Nate', 'Marcus', 'Joel']\n"
     ]
    }
   ],
   "source": [
    "# default is the last value if no parameter is given\n",
    "# pop returns the element that was removed in case you want to assign it into a variable\n",
    "\n",
    "senior_instructor = names.pop()\n",
    "print(senior_instructor)\n",
    "print(names)"
   ]
  },
  {
   "cell_type": "markdown",
   "metadata": {},
   "source": [
    "\n",
    "##### .remove()"
   ]
  },
  {
   "cell_type": "code",
   "execution_count": 12,
   "metadata": {},
   "outputs": [
    {
     "name": "stdout",
     "output_type": "stream",
     "text": [
      "['Max', 'Carrie', 'Kathy', 'Taty', 'Nate', 'Marcus', 'Joel']\n",
      "['Max', 'Carrie', 'Kathy', 'Taty', 'Nate', 'Marcus', 'Joel']\n"
     ]
    }
   ],
   "source": [
    "# value to be removed , not index\n",
    "\n",
    "#names.append('Justin')\n",
    "names.remove('Justin')\n",
    "print(names)\n",
    "\n",
    "while 'Justin' in names:\n",
    "    print(names)\n",
    "    names.remove('Justin')\n",
    "    \n",
    "print(names)\n",
    "\n",
    "\n",
    "\n",
    "\n",
    "\n",
    "\n"
   ]
  },
  {
   "cell_type": "markdown",
   "metadata": {},
   "source": [
    "##### del()"
   ]
  },
  {
   "cell_type": "code",
   "execution_count": 13,
   "metadata": {},
   "outputs": [
    {
     "name": "stdout",
     "output_type": "stream",
     "text": [
      "['Max', 'Kathy', 'Taty', 'Nate', 'Marcus', 'Joel']\n"
     ]
    }
   ],
   "source": [
    "# index to be removed, not value\n",
    "# BE CAREFUL with del, can cause indexing errors if not used carefully\n",
    "\n",
    "del(names[1])\n",
    "print(names)\n",
    "          \n",
    "\n"
   ]
  },
  {
   "cell_type": "markdown",
   "metadata": {},
   "source": [
    "##### Reassigning a value by index"
   ]
  },
  {
   "cell_type": "code",
   "execution_count": 14,
   "metadata": {},
   "outputs": [
    {
     "name": "stdout",
     "output_type": "stream",
     "text": [
      "['Max', 'Kathy', 'Tatyana', 'Nate', 'Marcus', 'Joel']\n"
     ]
    }
   ],
   "source": [
    "names[2] = 'Tatyana'\n",
    "print(names)"
   ]
  },
  {
   "cell_type": "markdown",
   "metadata": {},
   "source": [
    "##### Concatenating Two Lists"
   ]
  },
  {
   "cell_type": "code",
   "execution_count": 15,
   "metadata": {},
   "outputs": [
    {
     "name": "stdout",
     "output_type": "stream",
     "text": [
      "[0, 1, 2, 3, 4, 5]\n"
     ]
    }
   ],
   "source": [
    "# will append two lists together, not add up the elements in each list\n",
    "\n",
    "l_2 = [0,1,2]\n",
    "l_3 = [3,4,5]\n",
    "\n",
    "large_list = l_2 + l_3\n",
    "print(large_list)"
   ]
  },
  {
   "cell_type": "markdown",
   "metadata": {},
   "source": [
    "##### Lists Within Lists"
   ]
  },
  {
   "cell_type": "code",
   "execution_count": 16,
   "metadata": {},
   "outputs": [
    {
     "name": "stdout",
     "output_type": "stream",
     "text": [
      "['Max', 'Sam', 'Josh', ['Sally', 'Sue', 'Tameka']]\n",
      "Tameka\n"
     ]
    }
   ],
   "source": [
    "# Lists are able to hold any type of element, including OTHER lists themsevles\n",
    "# they can also go as deep as you want, having many lists nested inside of each other\n",
    "\n",
    "names = [\"Max\", \"Sam\",\"Josh\",[\"Sally\",\"Sue\",\"Tameka\"]]\n",
    "\n",
    "print(names)\n",
    "print(names[3][2])\n"
   ]
  },
  {
   "cell_type": "markdown",
   "metadata": {},
   "source": [
    "##### Looping Through Lists"
   ]
  },
  {
   "cell_type": "code",
   "execution_count": 17,
   "metadata": {},
   "outputs": [
    {
     "name": "stdout",
     "output_type": "stream",
     "text": [
      "Max\n",
      "Sam\n",
      "Josh\n",
      "['Sally', 'Sue', 'Tameka']\n",
      "['Max', 'Sam', 'Josh', ['Sally', 'Sue', 'Tameka']]\n",
      "['Max', 'Sam', 'Josh', ['Sally', 'Sue', 'Tameka']]\n",
      "['Max', 'Sam', 'Josh', ['Sally', 'Sue', 'Tameka']]\n",
      "['Max', 'Sam', 'Josh', ['Sally', 'Sue', 'Tameka']]\n"
     ]
    }
   ],
   "source": [
    "# two ways to loop through a list, one is by index, the other is by using the 'in' keyword\n",
    "\n",
    "# Loop with a for loop (By Index)\n",
    "\n",
    "for i in range(len(names)):\n",
    "    print(names[i])\n",
    "\n",
    "#for i in range(len(names)):\n",
    "#    if names[1] == names_2[i+1]:\n",
    "#        print(same name')\n",
    "    \n",
    "# Loop with a for loop (Using the 'in' keyword)\n",
    "for name in names:\n",
    "    print(names)\n"
   ]
  },
  {
   "cell_type": "markdown",
   "metadata": {},
   "source": [
    "### Working With Lists"
   ]
  },
  {
   "cell_type": "markdown",
   "metadata": {},
   "source": [
    "##### min()"
   ]
  },
  {
   "cell_type": "code",
   "execution_count": 18,
   "metadata": {},
   "outputs": [
    {
     "name": "stdout",
     "output_type": "stream",
     "text": [
      "1\n"
     ]
    }
   ],
   "source": [
    "# min(list)\n",
    "\n",
    "numbers = [4,2,87,45,16,1,80]\n",
    "print(min(numbers))"
   ]
  },
  {
   "cell_type": "markdown",
   "metadata": {},
   "source": [
    "##### max()"
   ]
  },
  {
   "cell_type": "code",
   "execution_count": 19,
   "metadata": {},
   "outputs": [
    {
     "name": "stdout",
     "output_type": "stream",
     "text": [
      "87\n"
     ]
    }
   ],
   "source": [
    "# max(list)\n",
    "\n",
    "print(max(numbers))"
   ]
  },
  {
   "cell_type": "markdown",
   "metadata": {},
   "source": [
    "##### sum()"
   ]
  },
  {
   "cell_type": "code",
   "execution_count": 20,
   "metadata": {},
   "outputs": [
    {
     "name": "stdout",
     "output_type": "stream",
     "text": [
      "235\n"
     ]
    }
   ],
   "source": [
    "# sum(list)\n",
    "\n",
    "print(sum(numbers))"
   ]
  },
  {
   "cell_type": "markdown",
   "metadata": {},
   "source": [
    "##### sorted()"
   ]
  },
  {
   "cell_type": "code",
   "execution_count": 21,
   "metadata": {},
   "outputs": [
    {
     "name": "stdout",
     "output_type": "stream",
     "text": [
      "[4, 2, 87, 45, 16, 1, 80]\n",
      "Original numbers list: [4, 2, 87, 45, 16, 1, 80]\n",
      "Sorted numbers list: [1, 2, 4, 16, 45, 80, 87]\n",
      "['Bravo', 'Nate', 'Zebra']\n",
      "['0', 'Bravo', 'Nate', 'Zebra', 'justin', 'zebra']\n"
     ]
    }
   ],
   "source": [
    "# sorted(list)\n",
    "# creates a new copy of the list\n",
    "\n",
    "print(numbers)\n",
    "sorted_numbers = sorted(numbers)\n",
    "print(f'Original numbers list: {numbers}')\n",
    "print(f'Sorted numbers list: {sorted_numbers}')\n",
    "\n",
    "\n",
    "#b Alphabetical or ascending\n",
    "print(sorted(['Nate', 'Zebra', 'Bravo']))\n",
    "\n",
    "print(sorted(['Nate', 'Zebra', 'Bravo', 'zebra', 'justin', '0']))"
   ]
  },
  {
   "cell_type": "markdown",
   "metadata": {},
   "source": [
    "##### .sort() <br>\n",
    "<p>Difference between sort and sorted, is that sorted doesn't change original list it returns a copy, while .sort changes the original list</p>"
   ]
  },
  {
   "cell_type": "code",
   "execution_count": 22,
   "metadata": {},
   "outputs": [
    {
     "name": "stdout",
     "output_type": "stream",
     "text": [
      "Before Sort: [4, 2, 87, 45, 16, 1, 80]\n",
      "After Sort: [1, 2, 4, 16, 45, 80, 87]\n"
     ]
    }
   ],
   "source": [
    "# list.sort()\n",
    "\n",
    "print(f'Before Sort: {numbers}')\n",
    "\n",
    "numbers.sort()\n",
    "\n",
    "print(f'After Sort: {numbers}')\n",
    "\n",
    "# use sorted when you don't want to alter original list, use .sort() when you want to alter original list"
   ]
  },
  {
   "cell_type": "markdown",
   "metadata": {},
   "source": [
    "##### Copying a List"
   ]
  },
  {
   "cell_type": "code",
   "execution_count": 23,
   "metadata": {},
   "outputs": [],
   "source": [
    "# [:] copies a list, doesn't alter original\n",
    "\n",
    "\n"
   ]
  },
  {
   "cell_type": "markdown",
   "metadata": {},
   "source": [
    "##### 'in' keyword"
   ]
  },
  {
   "cell_type": "code",
   "execution_count": 24,
   "metadata": {},
   "outputs": [
    {
     "name": "stdout",
     "output_type": "stream",
     "text": [
      "Derek is a teacher at CT\n",
      "Name does not include 'B'\n",
      "Name does not include 'B'\n",
      "Name does not include 'B'\n",
      "Name includes 'B'\n",
      "Name does not include 'B'\n",
      "Name does not include 'B'\n",
      "This name does not start with B \n",
      "This name does not start with B \n",
      "This name does not start with B \n",
      "This name starts with B \n",
      "This name does not start with B \n",
      "This name does not start with B \n"
     ]
    }
   ],
   "source": [
    "l_teachers = ['Joel', 'Derek', 'Nate', 'Brian', 'Sam', 'Marcus']\n",
    "if 'Derek' in l_teachers:\n",
    "    print(\"Derek is a teacher at CT\")\n",
    "else:\n",
    "    print(\"Derek is not a teacher at at CT\")\n",
    "    \n",
    "for name in l_teachers:\n",
    "    if 'B' in name:\n",
    "        print(\"Name includes 'B'\")\n",
    "    else:\n",
    "        print(\"Name does not include 'B'\")\n",
    "        \n",
    "for name in l_teachers:\n",
    "    if 'B' in name[0]:\n",
    "        print(\"This name starts with B \")\n",
    "    else:\n",
    "        print(\"This name does not start with B \")"
   ]
  },
  {
   "cell_type": "markdown",
   "metadata": {},
   "source": [
    "##### 'not in' keyword"
   ]
  },
  {
   "cell_type": "code",
   "execution_count": 25,
   "metadata": {},
   "outputs": [
    {
     "name": "stdout",
     "output_type": "stream",
     "text": [
      "Nicole in not an instructor!\n"
     ]
    }
   ],
   "source": [
    "if 'Nicole' not in l_teachers:\n",
    "    print(\"Nicole in not an instructor!\")"
   ]
  },
  {
   "cell_type": "markdown",
   "metadata": {},
   "source": [
    "##### Checking an Empty List"
   ]
  },
  {
   "cell_type": "code",
   "execution_count": 26,
   "metadata": {},
   "outputs": [
    {
     "ename": "SyntaxError",
     "evalue": "invalid syntax (<ipython-input-26-b681efc6569d>, line 13)",
     "output_type": "error",
     "traceback": [
      "\u001b[1;36m  File \u001b[1;32m\"<ipython-input-26-b681efc6569d>\"\u001b[1;36m, line \u001b[1;32m13\u001b[0m\n\u001b[1;33m    if l_2 ==\u001b[0m\n\u001b[1;37m              ^\u001b[0m\n\u001b[1;31mSyntaxError\u001b[0m\u001b[1;31m:\u001b[0m invalid syntax\n"
     ]
    }
   ],
   "source": [
    "# if l_1: or if l_1 = []\n",
    "\n",
    "l_2 = []\n",
    "if l_2:\n",
    "    print(\"it is a list with contents\")\n",
    "    \n",
    "if l_2 == []:\n",
    "    print(\"empty list\")\n",
    "    \n",
    "if not l_2:\n",
    "    print(\"no contents\")\n",
    "    \n",
    "if l_2 == "
   ]
  },
  {
   "cell_type": "markdown",
   "metadata": {},
   "source": [
    "##### Removing Instances with a Loop"
   ]
  },
  {
   "cell_type": "code",
   "execution_count": null,
   "metadata": {},
   "outputs": [],
   "source": [
    "# while, remove\n",
    "\n",
    "names = ['Julia', 'Connor', 'Jeff', 'Alex', 'Julia', 'Rob', 'Julia', 'Claire']\n",
    "\n",
    "while 'Julia' in names:\n",
    "    names.remove('Julia')\n",
    "    print(names)\n",
    "    \n",
    "print(names)"
   ]
  },
  {
   "cell_type": "markdown",
   "metadata": {},
   "source": [
    "### List Exercise <br>\n",
    "<p>Remove all duplicates<br><b>Extra: Create a program that will remove any duplicates from a given list</b></p>"
   ]
  },
  {
   "cell_type": "code",
   "execution_count": null,
   "metadata": {},
   "outputs": [],
   "source": [
    "names = ['connor', 'connor', 'bob', 'connor', 'evan', 'max', 'evan', 2, 2, 2, 3, 3, 4, 'bob', 'kevin']\n",
    "# Hint 1: You will need an append\n",
    "# Hint 2: Using an empty list will make life easier\n",
    "\n",
    "names_2 = []\n",
    "for name in names:\n",
    "    if name not in names_2:\n",
    "        names_2.append(name)\n",
    "        \n",
    "print(names_2)\n",
    "    \n",
    "for i in names:\n",
    "    print(list)\n"
   ]
  },
  {
   "cell_type": "markdown",
   "metadata": {},
   "source": [
    "### List Comprehensions <br>\n",
    "<p>Creating a quickly generated list to work with<br>*result*  = [*transform*    *iteration*         *filter*     ]</p>"
   ]
  },
  {
   "cell_type": "markdown",
   "metadata": {},
   "source": [
    "##### In a list comprehension we have a few pieces:\n",
    "1. The first is the counter/ variable - IN this the variable is x\n",
    "2. then we have a transform for the variable\n",
    "3. The finale part of a list comp is called the condition\n",
    "\n",
    "```python\n",
    "    [variable, transform, condition]\n",
    "```"
   ]
  },
  {
   "cell_type": "code",
   "execution_count": null,
   "metadata": {},
   "outputs": [],
   "source": [
    "# number comprehension\n",
    "\n",
    "# With a regular for loop\n",
    "\n",
    "nums = []\n",
    "\n",
    "for i in range(100):\n",
    "    nums.append(i)\n",
    "print(nums)\n",
    "\n",
    "\n",
    "# IN a list comprehension we have a few pieces:\n",
    "# The first is the counter/ variable - IN this the variable is x\n",
    "# Then we have a transform for the variable \n",
    "# The finale part of a list comp is called the condition\n",
    "\n",
    "print('\\n')\n",
    "#[variable(transform) iterator, condition]\n",
    "\n",
    "nums_comp = [i for i in range(100)]\n",
    "print(nums_comp)\n",
    "\n"
   ]
  },
  {
   "cell_type": "markdown",
   "metadata": {},
   "source": [
    "There are a few benefits to using List comprehensions. The most obvious would be that we now have shorter code to work with instead of using 3+ lines of code in the for loop variant.\n",
    "\n",
    "Another is an added benefit to memory usage. Since the list's memory is allocated first before adding elements to it, we don't have to resize the list once we add elements to it.\n",
    "\n",
    "Lastly, list comprehensions are considered the \"pythonic\" way to write code by the PEP8 standards (Python Style Guide)"
   ]
  },
  {
   "cell_type": "code",
   "execution_count": null,
   "metadata": {},
   "outputs": [],
   "source": [
    "# square number comprehension\n",
    "\n",
    "squares = [x**2 for x in range(10)]\n",
    "print(squares)\n",
    "\n",
    "# comparable appending version\n",
    "\n",
    "sq_reg = []\n",
    "\n",
    "for x in range(10):\n",
    "    sq_reg.append(x**2)\n",
    "print(sq_reg)"
   ]
  },
  {
   "cell_type": "code",
   "execution_count": null,
   "metadata": {},
   "outputs": [],
   "source": [
    "# string comprehension\n",
    "\n",
    "names = ['Julia', 'Connor', 'Jeff', 'Alex', 'Julia', 'Rob', 'Julia', 'Claire']\n",
    "\n",
    "first_char_comp = [name[0] for name in names]\n",
    "print(first_char_comp)\n",
    "\n",
    "# OG for loop version\n",
    "\n",
    "first_char = []\n",
    "\n",
    "for name in names:\n",
    "    first_char.append(name[0])\n",
    "print(first_char)\n"
   ]
  },
  {
   "cell_type": "code",
   "execution_count": null,
   "metadata": {},
   "outputs": [],
   "source": [
    "# using the 'if' statement... 'if' always comes after 'for'\n",
    "\n",
    "c_names = [name for name in names if name[0] == 'C']\n",
    "print(c_names)\n",
    "\n",
    "# OG 'for' loop version\n",
    "\n",
    "c_reg = []\n",
    "\n",
    "for name in names:\n",
    "    if name[0] == 'C':\n",
    "        c_reg.append(name)\n",
    "print(c_reg)"
   ]
  },
  {
   "cell_type": "code",
   "execution_count": null,
   "metadata": {},
   "outputs": [],
   "source": [
    "# else\n",
    "c_names_2 = [name if name[0] == 'C' else False for name in names]\n",
    "print(c_names_2)"
   ]
  },
  {
   "cell_type": "markdown",
   "metadata": {},
   "source": [
    "### Tuples <br>\n",
    "<p><b>Defined as an immutable list</b></p><br>Seperated by commas using parenthesis"
   ]
  },
  {
   "cell_type": "code",
   "execution_count": null,
   "metadata": {},
   "outputs": [],
   "source": [
    "# first way to create a tuple \n",
    "\n",
    "tup_1 = 1,2,3\n",
    "# another way to create a tuple\n",
    "\n",
    "tup_2 = (1,2,3)\n",
    "\n",
    "print(type(tup_1))\n",
    "print(type(tup_2))\n",
    "\n",
    "print(tup_2[0])\n",
    "\n",
    "# looping over a tuple\n",
    "\n",
    "for num in tup_1:\n",
    "    print(num)\n",
    "\n",
    "# index loops\n",
    "\n",
    "for i in range(len(tup_1)):\n",
    "    print(tup_1[i])"
   ]
  },
  {
   "cell_type": "markdown",
   "metadata": {},
   "source": [
    "##### sorted()"
   ]
  },
  {
   "cell_type": "code",
   "execution_count": null,
   "metadata": {},
   "outputs": [],
   "source": [
    "tup_3 = (20, 5, 1, 3, 9, 45)\n",
    "sorted_tup = tuple(sorted(tup_3))\n",
    "\n",
    "print(sorted_tup)"
   ]
  },
  {
   "cell_type": "markdown",
   "metadata": {},
   "source": [
    "##### Adding values to a Tuple"
   ]
  },
  {
   "cell_type": "code",
   "execution_count": null,
   "metadata": {},
   "outputs": [],
   "source": [
    "print(tup_1)\n",
    "\n",
    "tup_1 = tup_1 + (5,6,7,)\n",
    "print(tup_1)"
   ]
  },
  {
   "cell_type": "markdown",
   "metadata": {},
   "source": [
    "## Functions"
   ]
  },
  {
   "cell_type": "markdown",
   "metadata": {},
   "source": [
    "##### User-Defined vs. Built-In Functions"
   ]
  },
  {
   "cell_type": "code",
   "execution_count": null,
   "metadata": {},
   "outputs": [],
   "source": [
    "# user defined function\n",
    "\n",
    "def helloWorld():\n",
    "    return \"Hello World!\"\n",
    "\n",
    "# calling a function\n",
    "\n",
    "helloWorld()\n",
    "print(helloWorld())\n",
    "\n",
    "# showing the function in memory\n",
    "\n",
    "print(helloWorld)\n",
    "print(print)"
   ]
  },
  {
   "cell_type": "markdown",
   "metadata": {},
   "source": [
    "##### Accepting Parameters"
   ]
  },
  {
   "cell_type": "code",
   "execution_count": null,
   "metadata": {},
   "outputs": [],
   "source": [
    "# order matters\n",
    "# a variable can be any type of python object\n",
    "\n",
    "def printFullName(first, last):\n",
    "    return f'Hello {first} {last}!'\n",
    "print(printFullName('Christian', 'Ubom'))\n",
    "print(printFullName('Ubom', 'Christian'))\n",
    "\n",
    "print(printFullName(last='Ubom', first='Christian'))"
   ]
  },
  {
   "cell_type": "markdown",
   "metadata": {},
   "source": [
    "##### Default Parameters"
   ]
  },
  {
   "cell_type": "code",
   "execution_count": null,
   "metadata": {},
   "outputs": [],
   "source": [
    "# default parameters must after non-default parameters in definitions at all times\n",
    "\n",
    "def printAgentName(first, last=\"Bond\"):\n",
    "    return f'The name is... {first} {last}'\n",
    "\n",
    "print(printAgentName('James'))\n",
    "\n",
    "print(printAgentName('James', 'Temple'))\n"
   ]
  },
  {
   "cell_type": "markdown",
   "metadata": {},
   "source": [
    "##### Making an Argument Optional"
   ]
  },
  {
   "cell_type": "code",
   "execution_count": null,
   "metadata": {},
   "outputs": [],
   "source": [
    "def printHorseName(first, middle='', last='Ed'):\n",
    "    if middle != '':\n",
    "#        return f'Hello {first} {middle} {last}'\n",
    "#    else:\n",
    "#        return f'Hello {first} {last}'\n",
    "print(printHorseName(\"Mr.\", \"Christian\", \"Ubom\"))"
   ]
  },
  {
   "cell_type": "markdown",
   "metadata": {},
   "source": [
    "##### Keyword Arguments"
   ]
  },
  {
   "cell_type": "code",
   "execution_count": null,
   "metadata": {},
   "outputs": [],
   "source": [
    "# last_name='Max', first_name='Smith' in the function call\n",
    "\n",
    "# see above"
   ]
  },
  {
   "cell_type": "markdown",
   "metadata": {},
   "source": [
    "# Creating a start, stop, step function"
   ]
  },
  {
   "cell_type": "code",
   "execution_count": null,
   "metadata": {},
   "outputs": [],
   "source": [
    "def my_range(stop, start=0, step=1):\n",
    "    for i in range(start, stop, step):\n",
    "        print(i)\n",
    "        \n",
    "my_range(20,1)\n",
    "\n",
    "for i in range(0,20,1):\n",
    "    print(i)"
   ]
  },
  {
   "cell_type": "markdown",
   "metadata": {},
   "source": [
    "##### Returning Values"
   ]
  },
  {
   "cell_type": "code",
   "execution_count": null,
   "metadata": {},
   "outputs": [],
   "source": [
    "def addNums(num1, num2):\n",
    "    return num1 = num2\n",
    "\n",
    "addition = addNums(5,4)\n",
    "print(addition)"
   ]
  },
  {
   "cell_type": "markdown",
   "metadata": {},
   "source": [
    "##### arg/*kwargs (AKA KeyWord Args)"
   ]
  },
  {
   "cell_type": "code",
   "execution_count": null,
   "metadata": {},
   "outputs": [],
   "source": [
    "# args stands for arguments. takes in ANY amount of arguments as paremeters\n",
    "# must be last if multiple parameters are present\n",
    "\n",
    "def printArgs(num1, *args, **kwargs):\n",
    "    print(num1)\n",
    "    print(args)\n",
    "    print(kwargs)\n",
    "    \n",
    "    for arg in args:\n",
    "        print(arg)\n",
    "        \n",
    "printArgs(12, 'DragonZord', 'vanilla', 2, 3, name=\"Christian\", testing = 123)"
   ]
  },
  {
   "cell_type": "markdown",
   "metadata": {},
   "source": [
    "##### Docstring"
   ]
  },
  {
   "cell_type": "code",
   "execution_count": null,
   "metadata": {},
   "outputs": [],
   "source": [
    "def printNames(list_1):\n",
    "    \"\"\"\n",
    "        printNames(list_1)\n",
    "        Function requires a list to be passed as an argument\n",
    "        and will proint the contents of the list. Expecting a\n",
    "        list of names(strings) to be passed in.\n",
    "        \n",
    "    \"\"\"\n",
    "    for name in list_1:\n",
    "        print(name)\n",
    "        \n",
    "printNames(['Nate', 'Jonathan', 'Marcus'])\n",
    "\n",
    "help(printNames)"
   ]
  },
  {
   "cell_type": "markdown",
   "metadata": {},
   "source": [
    "##### Using a User Function in a Loop"
   ]
  },
  {
   "cell_type": "code",
   "execution_count": null,
   "metadata": {},
   "outputs": [],
   "source": [
    "def printInput(answer):\n",
    "    print(answer)\n",
    "    \n",
    "while True:\n",
    "    ask = input(\"What do you want to do?\")\n",
    "    \n",
    "    printInput(ask)\n",
    "    \n",
    "    response = input(\"Ready to Quit??? Y/N\")\n",
    "    if response.lower() == 'y':\n",
    "        break"
   ]
  },
  {
   "cell_type": "markdown",
   "metadata": {},
   "source": [
    "## Function Exercise <br>\n",
    "<p>Write a function that loops through a list of first_names and a list of last_names, combines the two and return a list of full_names</p>"
   ]
  },
  {
   "cell_type": "code",
   "execution_count": 33,
   "metadata": {},
   "outputs": [
    {
     "data": {
      "text/plain": [
       "['John Smith', 'Evan Smith', 'Jordan Williams', 'Max Bell']"
      ]
     },
     "execution_count": 33,
     "metadata": {},
     "output_type": "execute_result"
    }
   ],
   "source": [
    "first_name = ['John', 'Evan', 'Jordan', 'Max']\n",
    "last_name = ['Smith', 'Smith', 'Williams', 'Bell']\n",
    "\n",
    "# Output: ['John Smith', 'Evan Smith', 'Jordan Williams', 'Max Bell']\n",
    "\n",
    "def fullNames(first_list, last_list):\n",
    "    new_list = []\n",
    "    for i in range(len(first_list)):\n",
    "        new_list.append(first_list[i] + ' ' + last_list[i])\n",
    "    return new_list\n",
    "\n",
    "fullNames(first_name, last_name)"
   ]
  },
  {
   "cell_type": "markdown",
   "metadata": {},
   "source": [
    "## Scope <br>\n",
    "<p>Scope refers to the ability to access variables, different types of scope include:<br>a) Global<br>b) Function (local)<br>c) Class (local)</p>"
   ]
  },
  {
   "cell_type": "code",
   "execution_count": 30,
   "metadata": {},
   "outputs": [
    {
     "name": "stdout",
     "output_type": "stream",
     "text": [
      "6\n",
      "nate\n",
      "marcus\n",
      "jake\n",
      "jake\n"
     ]
    }
   ],
   "source": [
    "# placement of variable declaration matters\n",
    "number = 3 # Global varable\n",
    "\n",
    "def myFunc():\n",
    "    num_3 = 6 # Local Function Variable\n",
    "    return num_3\n",
    "\n",
    "# print(num_3) - causes error because variable is local to function\n",
    "\n",
    "return_num = myFunc()\n",
    "\n",
    "print(return_num)\n",
    "\n",
    "names = ['nate', 'marcus', 'jake']\n",
    "\n",
    "for x in names:\n",
    "    print(x)\n",
    "    \n",
    "print(x)"
   ]
  },
  {
   "cell_type": "markdown",
   "metadata": {},
   "source": [
    "# Exercises"
   ]
  },
  {
   "cell_type": "markdown",
   "metadata": {},
   "source": [
    "## Exercise 1 <br>\n",
    "<p>Given a list as a parameter,write a function that returns a list of numbers that are less than ten</b></i></p><br>\n",
    "<p> For example: Say your input parameter to the function is [1,11,14,5,8,9]...Your output should [1,5,8,9]</p>"
   ]
  },
  {
   "cell_type": "code",
   "execution_count": 40,
   "metadata": {},
   "outputs": [
    {
     "name": "stdout",
     "output_type": "stream",
     "text": [
      "[1, 5, 8, 9]\n"
     ]
    }
   ],
   "source": [
    "# Use the following list - [1,11,14,5,8,9]\n",
    "\n",
    "l_1 = [1,11,14,5,8,9]\n",
    "\n",
    "new_l = [num for num in l_1 if num <10]\n",
    "print(new_l)\n",
    "\n"
   ]
  },
  {
   "cell_type": "markdown",
   "metadata": {},
   "source": [
    "## Exercise 2 <br>\n",
    "<p>Write a function that takes in two lists and returns the two lists merged together and sorted<br>\n",
    "<b><i>Hint: You can use the .sort() method</i></b></p>"
   ]
  },
  {
   "cell_type": "code",
   "execution_count": 44,
   "metadata": {},
   "outputs": [
    {
     "ename": "TypeError",
     "evalue": "l_3() missing 1 required positional argument: 'last_list'",
     "output_type": "error",
     "traceback": [
      "\u001b[1;31m---------------------------------------------------------------------------\u001b[0m",
      "\u001b[1;31mTypeError\u001b[0m                                 Traceback (most recent call last)",
      "\u001b[1;32m<ipython-input-44-b39852e045a3>\u001b[0m in \u001b[0;36m<module>\u001b[1;34m\u001b[0m\n\u001b[0;32m      8\u001b[0m     \u001b[1;32mreturn\u001b[0m \u001b[0mnew_list\u001b[0m\u001b[1;33m\u001b[0m\u001b[1;33m\u001b[0m\u001b[0m\n\u001b[0;32m      9\u001b[0m \u001b[1;33m\u001b[0m\u001b[0m\n\u001b[1;32m---> 10\u001b[1;33m \u001b[0ml_3\u001b[0m\u001b[1;33m(\u001b[0m\u001b[0msorted\u001b[0m\u001b[1;33m(\u001b[0m\u001b[1;33m(\u001b[0m\u001b[1;34m'new_list'\u001b[0m \u001b[1;33m+\u001b[0m \u001b[1;34m'last_list'\u001b[0m\u001b[1;33m)\u001b[0m\u001b[1;33m)\u001b[0m\u001b[1;33m)\u001b[0m\u001b[1;33m\u001b[0m\u001b[1;33m\u001b[0m\u001b[0m\n\u001b[0m\u001b[0;32m     11\u001b[0m \u001b[1;33m\u001b[0m\u001b[0m\n",
      "\u001b[1;31mTypeError\u001b[0m: l_3() missing 1 required positional argument: 'last_list'"
     ]
    }
   ],
   "source": [
    "l_1 = [1,2,3,4,5,6]\n",
    "l_2 = [3,4,5,6,7,8,10]\n",
    "\n",
    "def l_3(first_list, last_list):\n",
    "    new_list = []\n",
    "    for i in range(first_list):\n",
    "        last_list.append(i)\n",
    "    return new_list\n",
    "\n",
    "l_3(sorted(('new_list' + 'last_list')))\n",
    "\n"
   ]
  }
 ],
 "metadata": {
  "kernelspec": {
   "display_name": "Python 3",
   "language": "python",
   "name": "python3"
  },
  "language_info": {
   "codemirror_mode": {
    "name": "ipython",
    "version": 3
   },
   "file_extension": ".py",
   "mimetype": "text/x-python",
   "name": "python",
   "nbconvert_exporter": "python",
   "pygments_lexer": "ipython3",
   "version": "3.8.3"
  }
 },
 "nbformat": 4,
 "nbformat_minor": 2
}
